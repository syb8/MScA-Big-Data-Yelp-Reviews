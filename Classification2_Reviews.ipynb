{
 "cells": [
  {
   "cell_type": "code",
   "execution_count": 2,
   "metadata": {},
   "outputs": [],
   "source": [
    "from pyspark.sql import SparkSession"
   ]
  },
  {
   "cell_type": "code",
   "execution_count": 3,
   "metadata": {},
   "outputs": [],
   "source": [
    "review = '/user/asyabani/yelp/yelp_academic_dataset_review.json'\n",
    "business = '/user/asyabani/yelp/yelp_academic_dataset_business.json'\n",
    "tip = '/user/asyabani/yelp/yelp_academic_dataset_tip.json'\n",
    "user = '/user/asyabani/yelp/yelp_academic_dataset_user.json'\n",
    "checkin = '/user/asyabani/yelp/yelp_academic_dataset_checkin.json'"
   ]
  },
  {
   "cell_type": "code",
   "execution_count": 4,
   "metadata": {},
   "outputs": [],
   "source": [
    "spark = SparkSession.builder.getOrCreate()"
   ]
  },
  {
   "cell_type": "code",
   "execution_count": 5,
   "metadata": {},
   "outputs": [],
   "source": [
    "#spark.conf.set(\"spark.sql.broadcastTimeout\", 4800)"
   ]
  },
  {
   "cell_type": "code",
   "execution_count": 6,
   "metadata": {},
   "outputs": [],
   "source": [
    "dfr = spark.read.json(review)\n",
    "dfb = spark.read.json(business)\n",
    "dft = spark.read.json(tip)\n",
    "dfu = spark.read.json(user)\n",
    "dfc = spark.read.json(checkin)"
   ]
  },
  {
   "cell_type": "markdown",
   "metadata": {},
   "source": [
    "### Unnest column 'attributes' and 'hours'\n",
    "Dataframe `dfb_a` and `dfb_h`"
   ]
  },
  {
   "cell_type": "code",
   "execution_count": 7,
   "metadata": {},
   "outputs": [],
   "source": [
    "from pyspark.sql.functions import col\n",
    "def flatten_df(nested_df):\n",
    "    stack = [((), nested_df)]\n",
    "    columns = []\n",
    "\n",
    "    while len(stack) > 0:\n",
    "        parents, df = stack.pop()\n",
    "\n",
    "        flat_cols = [\n",
    "            col(\".\".join(parents + (c[0],))).alias(\"_\".join(parents + (c[0],)))\n",
    "            for c in df.dtypes\n",
    "            if c[1][:6] != \"struct\"\n",
    "        ]\n",
    "\n",
    "        nested_cols = [\n",
    "            c[0]\n",
    "            for c in df.dtypes\n",
    "            if c[1][:6] == \"struct\"\n",
    "        ]\n",
    "\n",
    "        columns.extend(flat_cols)\n",
    "\n",
    "        for nested_col in nested_cols:\n",
    "            projected_df = df.select(nested_col + \".*\")\n",
    "            stack.append((parents + (nested_col,), projected_df))\n",
    "\n",
    "    return nested_df.select(columns)"
   ]
  },
  {
   "cell_type": "code",
   "execution_count": 8,
   "metadata": {},
   "outputs": [],
   "source": [
    "# Unnest 'attributes' columns\n",
    "dfb_a = flatten_df(dfb.select(\"attributes\"))"
   ]
  },
  {
   "cell_type": "code",
   "execution_count": 9,
   "metadata": {},
   "outputs": [],
   "source": [
    "# Unnest 'hours' columns\n",
    "dfb_h = flatten_df(dfb.select(\"hours\"))"
   ]
  },
  {
   "cell_type": "markdown",
   "metadata": {},
   "source": [
    "### Unnest 'attributes_Ambience' by creating new columns\n",
    "Dataframe `dfb_aa`"
   ]
  },
  {
   "cell_type": "code",
   "execution_count": 10,
   "metadata": {},
   "outputs": [],
   "source": [
    "dfb_aa = dfb_a.select('attributes_Ambience')"
   ]
  },
  {
   "cell_type": "code",
   "execution_count": 11,
   "metadata": {},
   "outputs": [],
   "source": [
    "from pyspark.sql.functions import *\n",
    "from pyspark.sql.types import *\n",
    "dfb_aa = dfb_aa.withColumn('Ambience_touristy', when(dfb_aa.attributes_Ambience.contains('\\'touristy\\': True'),1).otherwise(0))\\\n",
    "            .withColumn('Ambience_hipster', when(dfb_aa.attributes_Ambience.contains('\\'hipster\\': True'),1).otherwise(0))\\\n",
    "            .withColumn('Ambience_romantic', when(dfb_aa.attributes_Ambience.contains('\\'romantic\\': True'),1).otherwise(0))\\\n",
    "            .withColumn('Ambience_divey', when(dfb_aa.attributes_Ambience.contains('\\'divey\\': True'),1).otherwise(0))\\\n",
    "            .withColumn('Ambience_intimate', when(dfb_aa.attributes_Ambience.contains('\\'intimate\\': True'),1).otherwise(0))\\\n",
    "            .withColumn('Ambience_trendy', when(dfb_aa.attributes_Ambience.contains('\\'trendy\\': True'),1).otherwise(0))\\\n",
    "            .withColumn('Ambience_upscale', when(dfb_aa.attributes_Ambience.contains('\\'upscale\\': True'),1).otherwise(0))\\\n",
    "            .withColumn('Ambience_classy', when(dfb_aa.attributes_Ambience.contains('\\'classy\\': True'),1).otherwise(0))\\\n",
    "            .withColumn('Ambience_casual', when(dfb_aa.attributes_Ambience.contains('\\'casual\\': True'),1).otherwise(0))"
   ]
  },
  {
   "cell_type": "markdown",
   "metadata": {},
   "source": [
    "### Merging all new dataframes with the original one\n",
    "Dataframe `dfb_new`"
   ]
  },
  {
   "cell_type": "code",
   "execution_count": 12,
   "metadata": {},
   "outputs": [],
   "source": [
    "from pyspark.sql.functions import monotonically_increasing_id\n",
    "dfb_idx   = dfb.withColumn(\"row_id\", monotonically_increasing_id())\n",
    "dfb_a_idx = dfb_a.withColumn(\"row_id\", monotonically_increasing_id())\n",
    "dfb_h_idx = dfb_h.withColumn(\"row_id\", monotonically_increasing_id())\n",
    "dfb_aa_idx = dfb_aa.withColumn(\"row_id\", monotonically_increasing_id())"
   ]
  },
  {
   "cell_type": "code",
   "execution_count": 13,
   "metadata": {},
   "outputs": [],
   "source": [
    "merged1 = dfb_idx.join(dfb_a_idx, (\"row_id\"))\n",
    "merged2 = merged1.join(dfb_h_idx, (\"row_id\"))\n",
    "merged3 = merged2.join(dfb_aa_idx, (\"row_id\"))\n",
    "dfb_new = merged3.drop(\"row_id\",\"drop_Ambience\")"
   ]
  },
  {
   "cell_type": "markdown",
   "metadata": {},
   "source": [
    "### Variable Selections and Merging"
   ]
  },
  {
   "cell_type": "code",
   "execution_count": 14,
   "metadata": {},
   "outputs": [],
   "source": [
    "dfrreg = dfr.withColumnRenamed('cool','cool_review')\\\n",
    "            .withColumnRenamed('funny','funny_review')\\\n",
    "            .withColumnRenamed('useful','useful_review')\\\n",
    "            .withColumnRenamed('stars','stars_review')\\\n",
    "            .withColumnRenamed('user_id','user_id_r')\\\n",
    "            .withColumnRenamed('business_id','business_id_r')"
   ]
  },
  {
   "cell_type": "code",
   "execution_count": 15,
   "metadata": {},
   "outputs": [],
   "source": [
    "dfbreg = dfb_new.withColumnRenamed('review_count','rev_count_biz')\\\n",
    "                .withColumnRenamed('stars','stars_biz')"
   ]
  },
  {
   "cell_type": "code",
   "execution_count": 16,
   "metadata": {},
   "outputs": [],
   "source": [
    "dfureg = dfu.withColumnRenamed('cool','cool_user')\\\n",
    "            .withColumnRenamed('funny','funny_user')\\\n",
    "            .withColumnRenamed('useful','useful_user')\\\n",
    "            .withColumnRenamed('average_stars','avg_stars_user')\\\n",
    "            .withColumnRenamed('review_count','rev_count_user')"
   ]
  },
  {
   "cell_type": "code",
   "execution_count": 17,
   "metadata": {},
   "outputs": [],
   "source": [
    "dfregjoin = dfrreg.join(dfbreg, dfrreg.business_id_r == dfbreg.business_id)\\\n",
    "        .drop('address','city','hours','is_open','latitude','longitude','name','postal_code','state','attributes',\n",
    "             'hours_Monday','hours_Saturday','hours_Sunday','hours_Thursday','hours_Friday','hours_Tuesday','hours_Wednesday','attributes_Ambience')"
   ]
  },
  {
   "cell_type": "code",
   "execution_count": 18,
   "metadata": {},
   "outputs": [],
   "source": [
    "dfreg = dfregjoin.join(dfureg, dfregjoin.user_id_r == dfureg.user_id)\\\n",
    "        .drop('name')"
   ]
  },
  {
   "cell_type": "markdown",
   "metadata": {},
   "source": [
    "### Data Cleaning"
   ]
  },
  {
   "cell_type": "markdown",
   "metadata": {},
   "source": [
    "#### Change 'elite' and 'friends' into integer counts"
   ]
  },
  {
   "cell_type": "code",
   "execution_count": 19,
   "metadata": {},
   "outputs": [],
   "source": [
    "dfreg = dfreg.withColumn('elite', regexp_replace('elite', '20,20', '2020'))"
   ]
  },
  {
   "cell_type": "code",
   "execution_count": 20,
   "metadata": {},
   "outputs": [],
   "source": [
    "dfreg = dfreg.withColumn('elite_count', size(split(col('elite'), r\",\")))\\\n",
    "            .withColumn('friends_count', size(split(col('friends'), r\",\")))"
   ]
  },
  {
   "cell_type": "markdown",
   "metadata": {},
   "source": [
    "#### Add 'yelp_since_year' from 'yelping_since'"
   ]
  },
  {
   "cell_type": "code",
   "execution_count": 21,
   "metadata": {},
   "outputs": [],
   "source": [
    "dfreg = dfreg.withColumn(\"yelping_since\",to_timestamp(\"yelping_since\"))"
   ]
  },
  {
   "cell_type": "code",
   "execution_count": 22,
   "metadata": {},
   "outputs": [],
   "source": [
    "dfreg = dfreg.withColumn(\"yelp_since_year\", year(\"yelping_since\"))"
   ]
  },
  {
   "cell_type": "markdown",
   "metadata": {},
   "source": [
    "#### Add 'year_posted' for review"
   ]
  },
  {
   "cell_type": "code",
   "execution_count": 23,
   "metadata": {},
   "outputs": [],
   "source": [
    "dfreg = dfreg.withColumn(\"year_posted\", year(to_timestamp(\"date\")))"
   ]
  },
  {
   "cell_type": "markdown",
   "metadata": {},
   "source": [
    "#### Add 'years_gap', difference between 'year_posted' and 'yelp_since_year'"
   ]
  },
  {
   "cell_type": "code",
   "execution_count": 24,
   "metadata": {},
   "outputs": [],
   "source": [
    "dfreg = dfreg.withColumn(\"years_gap\", dfreg.year_posted-dfreg.yelp_since_year)"
   ]
  },
  {
   "cell_type": "markdown",
   "metadata": {},
   "source": [
    "#### Additional Columns: Count Non-Null Attributes"
   ]
  },
  {
   "cell_type": "code",
   "execution_count": 25,
   "metadata": {},
   "outputs": [],
   "source": [
    "dfreg = dfreg.withColumn('count_AcceptsInsurance', \n",
    "                         when(dfreg.attributes_AcceptsInsurance.isin(['True','False']),1).otherwise(0))"
   ]
  },
  {
   "cell_type": "code",
   "execution_count": 26,
   "metadata": {},
   "outputs": [],
   "source": [
    "dfreg = dfreg.withColumn('count_AgesAllowed', \n",
    "                         when(dfreg.attributes_AgesAllowed.contains('\\''),1).otherwise(0))"
   ]
  },
  {
   "cell_type": "code",
   "execution_count": 27,
   "metadata": {},
   "outputs": [],
   "source": [
    "dfreg = dfreg.withColumn('count_Alcohol', \n",
    "                         when(dfreg.attributes_Alcohol.contains('\\''),1).otherwise(0))"
   ]
  },
  {
   "cell_type": "code",
   "execution_count": 28,
   "metadata": {},
   "outputs": [],
   "source": [
    "dfreg = dfreg.withColumn('count_BYOB', \n",
    "                         when(dfreg.attributes_BYOB.isin(['True','False']),1).otherwise(0))"
   ]
  },
  {
   "cell_type": "code",
   "execution_count": 29,
   "metadata": {},
   "outputs": [],
   "source": [
    "dfreg = dfreg.withColumn('count_BYOBCorkage', \n",
    "                         when(dfreg.attributes_BYOBCorkage.contains('\\''),1).otherwise(0))"
   ]
  },
  {
   "cell_type": "code",
   "execution_count": 30,
   "metadata": {},
   "outputs": [],
   "source": [
    "dfreg = dfreg.withColumn('count_BestNights', \n",
    "                         when(dfreg.attributes_BestNights.contains('\\''),1).otherwise(0))"
   ]
  },
  {
   "cell_type": "code",
   "execution_count": 31,
   "metadata": {},
   "outputs": [],
   "source": [
    "dfreg = dfreg.withColumn('count_BikeParking', \n",
    "                         when(dfreg.attributes_BikeParking.isin(['True','False']),1).otherwise(0))"
   ]
  },
  {
   "cell_type": "code",
   "execution_count": 32,
   "metadata": {},
   "outputs": [],
   "source": [
    "from pyspark.sql.functions import col\n",
    "c='count_BusinessAcceptsBitcoin'\n",
    "a='attributes_BusinessAcceptsBitcoin'\n",
    "\n",
    "dfreg = dfreg.withColumn(c, \n",
    "                         when(col(a).isin(['True','False']),1).otherwise(0))"
   ]
  },
  {
   "cell_type": "code",
   "execution_count": 33,
   "metadata": {},
   "outputs": [],
   "source": [
    "from pyspark.sql.functions import col\n",
    "c='count_BusinessAcceptsCreditCards'\n",
    "a='attributes_BusinessAcceptsCreditCards'\n",
    "\n",
    "dfreg = dfreg.withColumn(c, \n",
    "                         when(col(a).isin(['True','False']),1).otherwise(0))"
   ]
  },
  {
   "cell_type": "code",
   "execution_count": 34,
   "metadata": {},
   "outputs": [],
   "source": [
    "from pyspark.sql.functions import col\n",
    "c='count_BusinessParking'\n",
    "a='attributes_BusinessParking'\n",
    "\n",
    "dfreg = dfreg.withColumn(c, \n",
    "                         when(col(a).contains('\\''),1).otherwise(0))"
   ]
  },
  {
   "cell_type": "code",
   "execution_count": 35,
   "metadata": {},
   "outputs": [],
   "source": [
    "from pyspark.sql.functions import col\n",
    "c='count_ByAppointmentOnly'\n",
    "a='attributes_ByAppointmentOnly'\n",
    "\n",
    "dfreg = dfreg.withColumn(c, \n",
    "                         when(col(a).isin(['True','False']),1).otherwise(0))"
   ]
  },
  {
   "cell_type": "code",
   "execution_count": 36,
   "metadata": {},
   "outputs": [],
   "source": [
    "from pyspark.sql.functions import col\n",
    "c='count_Caters'\n",
    "a='attributes_Caters'\n",
    "\n",
    "dfreg = dfreg.withColumn(c, \n",
    "                         when(col(a).isin(['True','False']),1).otherwise(0))"
   ]
  },
  {
   "cell_type": "code",
   "execution_count": 37,
   "metadata": {},
   "outputs": [],
   "source": [
    "from pyspark.sql.functions import col\n",
    "c='count_CoatCheck'\n",
    "a='attributes_CoatCheck'\n",
    "\n",
    "dfreg = dfreg.withColumn(c, \n",
    "                         when(col(a).isin(['True','False']),1).otherwise(0))"
   ]
  },
  {
   "cell_type": "code",
   "execution_count": 38,
   "metadata": {},
   "outputs": [],
   "source": [
    "from pyspark.sql.functions import col\n",
    "c='count_Corkage'\n",
    "a='attributes_Corkage'\n",
    "\n",
    "dfreg = dfreg.withColumn(c, \n",
    "                         when(col(a).isin(['True','False']),1).otherwise(0))"
   ]
  },
  {
   "cell_type": "code",
   "execution_count": 39,
   "metadata": {},
   "outputs": [],
   "source": [
    "from pyspark.sql.functions import col\n",
    "c='count_DietaryRestrictions'\n",
    "a='attributes_DietaryRestrictions'\n",
    "\n",
    "dfreg = dfreg.withColumn(c, \n",
    "                         when(col(a).contains('\\''),1).otherwise(0))"
   ]
  },
  {
   "cell_type": "code",
   "execution_count": 40,
   "metadata": {},
   "outputs": [],
   "source": [
    "from pyspark.sql.functions import col\n",
    "c='count_DogsAllowed'\n",
    "a='attributes_DogsAllowed'\n",
    "\n",
    "dfreg = dfreg.withColumn(c, \n",
    "                         when(col(a).isin(['True','False']),1).otherwise(0))"
   ]
  },
  {
   "cell_type": "code",
   "execution_count": 41,
   "metadata": {},
   "outputs": [],
   "source": [
    "from pyspark.sql.functions import col\n",
    "c='count_DriveThru'\n",
    "a='attributes_DriveThru'\n",
    "\n",
    "dfreg = dfreg.withColumn(c, \n",
    "                         when(col(a).isin(['True','False']),1).otherwise(0))"
   ]
  },
  {
   "cell_type": "code",
   "execution_count": 42,
   "metadata": {},
   "outputs": [],
   "source": [
    "from pyspark.sql.functions import col\n",
    "c='count_GoodForDancing'\n",
    "a='attributes_GoodForDancing'\n",
    "\n",
    "dfreg = dfreg.withColumn(c, \n",
    "                         when(col(a).isin(['True','False']),1).otherwise(0))"
   ]
  },
  {
   "cell_type": "code",
   "execution_count": 43,
   "metadata": {},
   "outputs": [],
   "source": [
    "from pyspark.sql.functions import col\n",
    "c='count_GoodForKids'\n",
    "a='attributes_GoodForKids'\n",
    "\n",
    "dfreg = dfreg.withColumn(c, \n",
    "                         when(col(a).isin(['True','False']),1).otherwise(0))"
   ]
  },
  {
   "cell_type": "code",
   "execution_count": 44,
   "metadata": {},
   "outputs": [],
   "source": [
    "from pyspark.sql.functions import col\n",
    "c='count_GoodForMeal'\n",
    "a='attributes_GoodForMeal'\n",
    "\n",
    "dfreg = dfreg.withColumn(c, \n",
    "                         when(col(a).contains('\\''),1).otherwise(0))"
   ]
  },
  {
   "cell_type": "code",
   "execution_count": 45,
   "metadata": {},
   "outputs": [],
   "source": [
    "from pyspark.sql.functions import col\n",
    "c='count_HairSpecializesIn'\n",
    "a='attributes_HairSpecializesIn'\n",
    "\n",
    "dfreg = dfreg.withColumn(c, \n",
    "                         when(col(a).contains('\\''),1).otherwise(0))"
   ]
  },
  {
   "cell_type": "code",
   "execution_count": 46,
   "metadata": {},
   "outputs": [],
   "source": [
    "from pyspark.sql.functions import col\n",
    "c='count_HappyHour'\n",
    "a='attributes_HappyHour'\n",
    "\n",
    "dfreg = dfreg.withColumn(c, \n",
    "                         when(col(a).isin(['True','False']),1).otherwise(0))"
   ]
  },
  {
   "cell_type": "code",
   "execution_count": 47,
   "metadata": {},
   "outputs": [],
   "source": [
    "from pyspark.sql.functions import col\n",
    "c='count_HasTV'\n",
    "a='attributes_HasTV'\n",
    "\n",
    "dfreg = dfreg.withColumn(c, \n",
    "                         when(col(a).isin(['True','False']),1).otherwise(0))"
   ]
  },
  {
   "cell_type": "code",
   "execution_count": 48,
   "metadata": {},
   "outputs": [],
   "source": [
    "from pyspark.sql.functions import col\n",
    "c='count_Music'\n",
    "a='attributes_Music'\n",
    "\n",
    "dfreg = dfreg.withColumn(c, \n",
    "                         when(col(a).contains('\\''),1).otherwise(0))"
   ]
  },
  {
   "cell_type": "code",
   "execution_count": 49,
   "metadata": {},
   "outputs": [],
   "source": [
    "from pyspark.sql.functions import col\n",
    "c='count_NoiseLevel'\n",
    "a='attributes_NoiseLevel'\n",
    "\n",
    "dfreg = dfreg.withColumn(c, \n",
    "                         when(col(a).contains('\\''),1).otherwise(0))"
   ]
  },
  {
   "cell_type": "code",
   "execution_count": 50,
   "metadata": {},
   "outputs": [],
   "source": [
    "from pyspark.sql.functions import col\n",
    "c='count_Open24Hours'\n",
    "a='attributes_Open24Hours'\n",
    "\n",
    "dfreg = dfreg.withColumn(c, \n",
    "                         when(col(a).isin(['True','False']),1).otherwise(0))"
   ]
  },
  {
   "cell_type": "code",
   "execution_count": 51,
   "metadata": {},
   "outputs": [],
   "source": [
    "from pyspark.sql.functions import col\n",
    "c='count_OutdoorSeating'\n",
    "a='attributes_OutdoorSeating'\n",
    "\n",
    "dfreg = dfreg.withColumn(c, \n",
    "                         when(col(a).isin(['True','False']),1).otherwise(0))"
   ]
  },
  {
   "cell_type": "code",
   "execution_count": 52,
   "metadata": {},
   "outputs": [],
   "source": [
    "from pyspark.sql.functions import col\n",
    "c='count_RestaurantsAttire'\n",
    "a='attributes_RestaurantsAttire'\n",
    "\n",
    "dfreg = dfreg.withColumn(c, \n",
    "                         when(col(a).contains('\\''),1).otherwise(0))"
   ]
  },
  {
   "cell_type": "code",
   "execution_count": 53,
   "metadata": {},
   "outputs": [],
   "source": [
    "from pyspark.sql.functions import col\n",
    "c='count_RestaurantsCounterService'\n",
    "a='attributes_RestaurantsCounterService'\n",
    "\n",
    "dfreg = dfreg.withColumn(c, \n",
    "                         when(col(a).isin(['True','False']),1).otherwise(0))"
   ]
  },
  {
   "cell_type": "code",
   "execution_count": 54,
   "metadata": {},
   "outputs": [],
   "source": [
    "from pyspark.sql.functions import col\n",
    "c='count_RestaurantsDelivery'\n",
    "a='attributes_RestaurantsDelivery'\n",
    "\n",
    "dfreg = dfreg.withColumn(c, \n",
    "                         when(col(a).isin(['True','False']),1).otherwise(0))"
   ]
  },
  {
   "cell_type": "code",
   "execution_count": 55,
   "metadata": {},
   "outputs": [],
   "source": [
    "from pyspark.sql.functions import col\n",
    "c='count_RestaurantsGoodForGroups'\n",
    "a='attributes_RestaurantsGoodForGroups'\n",
    "\n",
    "dfreg = dfreg.withColumn(c, \n",
    "                         when(col(a).isin(['True','False']),1).otherwise(0))"
   ]
  },
  {
   "cell_type": "code",
   "execution_count": 56,
   "metadata": {},
   "outputs": [],
   "source": [
    "from pyspark.sql.functions import col\n",
    "c='count_RestaurantsPriceRange2'\n",
    "a='attributes_RestaurantsPriceRange2'\n",
    "\n",
    "dfreg = dfreg.withColumn(c, \n",
    "                         when(col(a).isin(['1','2','3','4']),1).otherwise(0))"
   ]
  },
  {
   "cell_type": "code",
   "execution_count": 57,
   "metadata": {},
   "outputs": [],
   "source": [
    "from pyspark.sql.functions import col\n",
    "c='count_RestaurantsReservations'\n",
    "a='attributes_RestaurantsReservations'\n",
    "\n",
    "dfreg = dfreg.withColumn(c, \n",
    "                         when(col(a).isin(['True','False']),1).otherwise(0))"
   ]
  },
  {
   "cell_type": "code",
   "execution_count": 58,
   "metadata": {},
   "outputs": [],
   "source": [
    "from pyspark.sql.functions import col\n",
    "c='count_RestaurantsTableService'\n",
    "a='attributes_RestaurantsTableService'\n",
    "\n",
    "dfreg = dfreg.withColumn(c, \n",
    "                         when(col(a).isin(['True','False']),1).otherwise(0))"
   ]
  },
  {
   "cell_type": "code",
   "execution_count": 59,
   "metadata": {},
   "outputs": [],
   "source": [
    "from pyspark.sql.functions import col\n",
    "c='count_RestaurantsTakeOut'\n",
    "a='attributes_RestaurantsTakeOut'\n",
    "\n",
    "dfreg = dfreg.withColumn(c, \n",
    "                         when(col(a).isin(['True','False']),1).otherwise(0))"
   ]
  },
  {
   "cell_type": "code",
   "execution_count": 60,
   "metadata": {},
   "outputs": [],
   "source": [
    "from pyspark.sql.functions import col\n",
    "c='count_Smoking'\n",
    "a='attributes_Smoking'\n",
    "\n",
    "dfreg = dfreg.withColumn(c, \n",
    "                         when(col(a).contains('\\''),1).otherwise(0))"
   ]
  },
  {
   "cell_type": "code",
   "execution_count": 61,
   "metadata": {},
   "outputs": [],
   "source": [
    "from pyspark.sql.functions import col\n",
    "c='count_WheelchairAccessible'\n",
    "a='attributes_WheelchairAccessible'\n",
    "\n",
    "dfreg = dfreg.withColumn(c, \n",
    "                         when(col(a).isin(['True','False']),1).otherwise(0))"
   ]
  },
  {
   "cell_type": "code",
   "execution_count": 62,
   "metadata": {},
   "outputs": [],
   "source": [
    "from pyspark.sql.functions import col\n",
    "c='count_WiFi'\n",
    "a='attributes_WiFi'\n",
    "\n",
    "dfreg = dfreg.withColumn(c, \n",
    "                         when(col(a).contains('\\''),1).otherwise(0))"
   ]
  },
  {
   "cell_type": "code",
   "execution_count": 63,
   "metadata": {},
   "outputs": [],
   "source": [
    "from pyspark.sql.functions import sum\n",
    "count_columns = [column for column in dfreg.columns if column.startswith(\"count\")]"
   ]
  },
  {
   "cell_type": "code",
   "execution_count": 64,
   "metadata": {},
   "outputs": [],
   "source": [
    "from functools import reduce\n",
    "from operator import add\n",
    "def column_add(a,b):\n",
    "     return  a._add_(b)\n",
    "dfreg = dfreg.withColumn('count_sum', \n",
    "         reduce(add, (col(x) for x in count_columns)))"
   ]
  },
  {
   "cell_type": "markdown",
   "metadata": {},
   "source": [
    "#### Add 'text_length' from review text"
   ]
  },
  {
   "cell_type": "code",
   "execution_count": 65,
   "metadata": {},
   "outputs": [],
   "source": [
    "dfreg = dfreg.withColumn('text_length',length(dfreg.text))"
   ]
  },
  {
   "cell_type": "markdown",
   "metadata": {},
   "source": [
    "#### Add 'compliment_sum' for total compliments of users"
   ]
  },
  {
   "cell_type": "code",
   "execution_count": 66,
   "metadata": {},
   "outputs": [],
   "source": [
    "compl_columns = [column for column in dfreg.columns if column.startswith(\"compliment\")]\n",
    "from functools import reduce\n",
    "from operator import add\n",
    "def column_add(a,b):\n",
    "     return  a._add_(b)\n",
    "dfreg = dfreg.withColumn('compliment_sum', \n",
    "         reduce(add, (col(x) for x in compl_columns)))"
   ]
  },
  {
   "cell_type": "code",
   "execution_count": 67,
   "metadata": {},
   "outputs": [],
   "source": [
    "dfclas = dfreg.withColumn('stars_rev_class', when(dfreg.stars_review>=4,1)\\\n",
    "                          .otherwise(0))\n",
    "dfclas = dfclas.withColumn('stars_biz_class', when(dfreg.stars_biz>3,1)\\\n",
    "                          .otherwise(0))"
   ]
  },
  {
   "cell_type": "code",
   "execution_count": 68,
   "metadata": {},
   "outputs": [],
   "source": [
    "from pyspark.ml import Pipeline\n",
    "from pyspark.ml.classification import LogisticRegression\n",
    "from pyspark.ml.feature import HashingTF, Tokenizer, StringIndexer, CountVectorizer, IDF, StopWordsRemover, Word2Vec"
   ]
  },
  {
   "cell_type": "code",
   "execution_count": 69,
   "metadata": {},
   "outputs": [],
   "source": [
    "tokenizer = Tokenizer(inputCol=\"text\", outputCol=\"words\")\n",
    "remover = StopWordsRemover(inputCol=tokenizer.getOutputCol(), outputCol=\"clean_words\")\n",
    "word2Vec = Word2Vec(vectorSize=300, inputCol=remover.getOutputCol(), outputCol=\"tokens\")\n",
    "\n",
    "pipe = Pipeline(stages=[tokenizer, remover, word2Vec])"
   ]
  },
  {
   "cell_type": "code",
   "execution_count": 70,
   "metadata": {},
   "outputs": [],
   "source": [
    "sample_size = 0.008"
   ]
  },
  {
   "cell_type": "code",
   "execution_count": 71,
   "metadata": {},
   "outputs": [
    {
     "name": "stdout",
     "output_type": "stream",
     "text": [
      "CPU times: user 69.1 ms, sys: 21.9 ms, total: 91.1 ms\n",
      "Wall time: 4min 3s\n"
     ]
    }
   ],
   "source": [
    "%time pipe_fit = pipe.fit(dfclas.where(dfclas.categories.contains('Restaurants')).where(dfclas.years_gap>=0).sample(sample_size))\n"
   ]
  },
  {
   "cell_type": "code",
   "execution_count": 72,
   "metadata": {},
   "outputs": [
    {
     "data": {
      "text/plain": [
       "5574628"
      ]
     },
     "execution_count": 72,
     "metadata": {},
     "output_type": "execute_result"
    }
   ],
   "source": [
    "dfclas.where(dfclas.categories.contains('Restaurants')).where(dfclas.years_gap>=0).count()"
   ]
  },
  {
   "cell_type": "code",
   "execution_count": 73,
   "metadata": {},
   "outputs": [
    {
     "data": {
      "text/plain": [
       "68870"
      ]
     },
     "execution_count": 73,
     "metadata": {},
     "output_type": "execute_result"
    }
   ],
   "source": [
    "dfclas.sample(sample_size).count()"
   ]
  },
  {
   "cell_type": "code",
   "execution_count": 74,
   "metadata": {},
   "outputs": [
    {
     "data": {
      "text/plain": [
       "44884"
      ]
     },
     "execution_count": 74,
     "metadata": {},
     "output_type": "execute_result"
    }
   ],
   "source": [
    "dfclas.where(dfclas.categories.contains('Restaurants')).where(dfclas.years_gap>=0).sample(sample_size).count()"
   ]
  },
  {
   "cell_type": "code",
   "execution_count": 75,
   "metadata": {},
   "outputs": [
    {
     "name": "stdout",
     "output_type": "stream",
     "text": [
      "CPU times: user 32.3 ms, sys: 9.38 ms, total: 41.6 ms\n",
      "Wall time: 1.65 s\n"
     ]
    }
   ],
   "source": [
    "%time encodedData = pipe_fit.transform(dfclas.where(dfclas.categories.contains('Restaurants')).where(dfclas.years_gap>=0).sample(sample_size))\n"
   ]
  },
  {
   "cell_type": "code",
   "execution_count": 76,
   "metadata": {},
   "outputs": [],
   "source": [
    "class_features = ['funny_review', 'cool_review', 'stars_review', 'rev_count_biz', 'stars_biz', 'count_sum',\n",
    "                  'elite_count', 'friends_count', 'years_gap', 'funny_user', 'useful_user', 'cool_user', \n",
    "                  'compliment_sum', 'fans',  'text_length', 'tokens']\n"
   ]
  },
  {
   "cell_type": "code",
   "execution_count": 77,
   "metadata": {
    "scrolled": true
   },
   "outputs": [],
   "source": [
    "from pyspark.ml.linalg import Vectors\n",
    "from pyspark.ml.feature import VectorAssembler\n",
    "assembler = VectorAssembler(inputCols=class_features, outputCol=\"class_features\")\n",
    "dfclasb = assembler.transform(encodedData)"
   ]
  },
  {
   "cell_type": "markdown",
   "metadata": {},
   "source": [
    "### Random Forest Classifier"
   ]
  },
  {
   "cell_type": "code",
   "execution_count": 78,
   "metadata": {},
   "outputs": [],
   "source": [
    "dfclasbrs = dfclasb"
   ]
  },
  {
   "cell_type": "code",
   "execution_count": 79,
   "metadata": {},
   "outputs": [],
   "source": [
    "dfclasbrs = dfclasbrs.withColumn(\"useful_review_binary\", \\\n",
    "   when((dfclasbrs['useful_review'] < 1), 0) \\\n",
    "     .otherwise (1))"
   ]
  },
  {
   "cell_type": "code",
   "execution_count": 79,
   "metadata": {},
   "outputs": [
    {
     "data": {
      "text/plain": [
       "45053"
      ]
     },
     "execution_count": 79,
     "metadata": {},
     "output_type": "execute_result"
    }
   ],
   "source": [
    "dfclasbrs.count()"
   ]
  },
  {
   "cell_type": "code",
   "execution_count": 80,
   "metadata": {},
   "outputs": [
    {
     "name": "stdout",
     "output_type": "stream",
     "text": [
      "CPU times: user 35.1 ms, sys: 18.9 ms, total: 54 ms\n",
      "Wall time: 1min 59s\n"
     ]
    }
   ],
   "source": [
    "%%time\n",
    "from pyspark.ml import Pipeline\n",
    "from pyspark.ml.classification import RandomForestClassifier\n",
    "from pyspark.ml.evaluation import MulticlassClassificationEvaluator\n",
    "\n",
    "# Load and parse the data file, converting it to a DataFrame.\n",
    "data = dfclasbrs\n",
    "\n",
    "# Split the data into training and test sets (30% held out for testing)\n",
    "(trainingData, testData) = data.randomSplit([0.7, 0.3])\n",
    "\n",
    "# Train a RandomForest model.\n",
    "rf = RandomForestClassifier(labelCol=\"useful_review_binary\", featuresCol=\"class_features\", numTrees=10)\n",
    "\n",
    "# Train model.  This also runs the indexers.\n",
    "model = rf.fit(trainingData)\n",
    "\n",
    "# Make predictions.\n",
    "predictions = model.transform(testData)"
   ]
  },
  {
   "cell_type": "code",
   "execution_count": 81,
   "metadata": {},
   "outputs": [
    {
     "name": "stdout",
     "output_type": "stream",
     "text": [
      "RandomForestClassifier: accuracy: 0.7385766126046064\n",
      "RandomForestClassifier: precision: 0.734147582697201\n",
      "RandomForestClassifier: recall: 0.8870987578403641\n",
      "RandomForestClassifier: f1-score: 0.8034083314769437\n"
     ]
    }
   ],
   "source": [
    "from pyspark.mllib.evaluation import MulticlassMetrics\n",
    "\n",
    "predictions_eval = predictions.withColumn(\"prediction\", predictions[\"prediction\"].cast(DoubleType()))\n",
    "predictions_eval = predictions.withColumn(\"useful_review_binary\", predictions[\"useful_review_binary\"].cast(DoubleType()))\n",
    "\n",
    "results = predictions_eval.select(['prediction', 'useful_review_binary'])\n",
    "predictionAndLabels=results.rdd\n",
    "metrics = MulticlassMetrics(predictionAndLabels)\n",
    "\n",
    "cm=metrics.confusionMatrix().toArray()\n",
    "accuracy=(cm[0][0]+cm[1][1])/cm.sum()\n",
    "precision=(cm[0][0])/(cm[0][0]+cm[1][0])\n",
    "recall=(cm[0][0])/(cm[0][0]+cm[0][1])\n",
    "f1=(2*precision*recall)/(precision+recall)\n",
    "\n",
    "print(\"RandomForestClassifier: accuracy:\",accuracy)\n",
    "print(\"RandomForestClassifier: precision:\",precision)\n",
    "print(\"RandomForestClassifier: recall:\",recall)\n",
    "print(\"RandomForestClassifier: f1-score:\",f1)"
   ]
  },
  {
   "cell_type": "code",
   "execution_count": 82,
   "metadata": {},
   "outputs": [
    {
     "data": {
      "text/html": [
       "<div>\n",
       "<style scoped>\n",
       "    .dataframe tbody tr th:only-of-type {\n",
       "        vertical-align: middle;\n",
       "    }\n",
       "\n",
       "    .dataframe tbody tr th {\n",
       "        vertical-align: top;\n",
       "    }\n",
       "\n",
       "    .dataframe thead th {\n",
       "        text-align: right;\n",
       "    }\n",
       "</style>\n",
       "<table border=\"1\" class=\"dataframe\">\n",
       "  <thead>\n",
       "    <tr style=\"text-align: right;\">\n",
       "      <th></th>\n",
       "      <th>Importance</th>\n",
       "      <th>features</th>\n",
       "    </tr>\n",
       "  </thead>\n",
       "  <tbody>\n",
       "    <tr>\n",
       "      <th>1</th>\n",
       "      <td>0.197206</td>\n",
       "      <td>cool_review</td>\n",
       "    </tr>\n",
       "    <tr>\n",
       "      <th>0</th>\n",
       "      <td>0.196397</td>\n",
       "      <td>funny_review</td>\n",
       "    </tr>\n",
       "    <tr>\n",
       "      <th>10</th>\n",
       "      <td>0.107994</td>\n",
       "      <td>useful_user</td>\n",
       "    </tr>\n",
       "    <tr>\n",
       "      <th>9</th>\n",
       "      <td>0.078958</td>\n",
       "      <td>funny_user</td>\n",
       "    </tr>\n",
       "    <tr>\n",
       "      <th>13</th>\n",
       "      <td>0.075619</td>\n",
       "      <td>fans</td>\n",
       "    </tr>\n",
       "    <tr>\n",
       "      <th>7</th>\n",
       "      <td>0.027416</td>\n",
       "      <td>friends_count</td>\n",
       "    </tr>\n",
       "    <tr>\n",
       "      <th>14</th>\n",
       "      <td>0.027337</td>\n",
       "      <td>text_length</td>\n",
       "    </tr>\n",
       "    <tr>\n",
       "      <th>12</th>\n",
       "      <td>0.024076</td>\n",
       "      <td>compliment_sum</td>\n",
       "    </tr>\n",
       "    <tr>\n",
       "      <th>11</th>\n",
       "      <td>0.023134</td>\n",
       "      <td>cool_user</td>\n",
       "    </tr>\n",
       "    <tr>\n",
       "      <th>6</th>\n",
       "      <td>0.004283</td>\n",
       "      <td>elite_count</td>\n",
       "    </tr>\n",
       "    <tr>\n",
       "      <th>2</th>\n",
       "      <td>0.004188</td>\n",
       "      <td>stars_review</td>\n",
       "    </tr>\n",
       "    <tr>\n",
       "      <th>3</th>\n",
       "      <td>0.001130</td>\n",
       "      <td>rev_count_biz</td>\n",
       "    </tr>\n",
       "    <tr>\n",
       "      <th>15</th>\n",
       "      <td>0.000847</td>\n",
       "      <td>tokens</td>\n",
       "    </tr>\n",
       "    <tr>\n",
       "      <th>4</th>\n",
       "      <td>0.000000</td>\n",
       "      <td>stars_biz</td>\n",
       "    </tr>\n",
       "    <tr>\n",
       "      <th>5</th>\n",
       "      <td>0.000000</td>\n",
       "      <td>count_sum</td>\n",
       "    </tr>\n",
       "  </tbody>\n",
       "</table>\n",
       "</div>"
      ],
      "text/plain": [
       "    Importance        features\n",
       "1     0.197206     cool_review\n",
       "0     0.196397    funny_review\n",
       "10    0.107994     useful_user\n",
       "9     0.078958      funny_user\n",
       "13    0.075619            fans\n",
       "7     0.027416   friends_count\n",
       "14    0.027337     text_length\n",
       "12    0.024076  compliment_sum\n",
       "11    0.023134       cool_user\n",
       "6     0.004283     elite_count\n",
       "2     0.004188    stars_review\n",
       "3     0.001130   rev_count_biz\n",
       "15    0.000847          tokens\n",
       "4     0.000000       stars_biz\n",
       "5     0.000000       count_sum"
      ]
     },
     "execution_count": 82,
     "metadata": {},
     "output_type": "execute_result"
    }
   ],
   "source": [
    "import pandas as pd\n",
    "\n",
    "featureImp = pd.DataFrame(list(zip(model.featureImportances, \\\n",
    "assembler.getInputCols())),columns=[\"Importance\",\"features\"]) \\\n",
    ".sort_values(by=\"Importance\",ascending=False)\n",
    "\n",
    "featureImp.head(15)"
   ]
  },
  {
   "cell_type": "code",
   "execution_count": 84,
   "metadata": {
    "scrolled": false
   },
   "outputs": [
    {
     "data": {
      "image/png": "[encoded data removed]",
      "text/plain": [
       "<Figure size 720x504 with 1 Axes>"
      ]
     },
     "metadata": {},
     "output_type": "display_data"
    }
   ],
   "source": [
    "import matplotlib.pyplot as plt\n",
    "featureImp.set_index('features').sort_values('Importance', ascending=True).plot(kind='barh', figsize=(10,7), color='brown')\n",
    "plt.show()"
   ]
  },
  {
   "cell_type": "markdown",
   "metadata": {},
   "source": [
    "### Logistic Regression Classifier"
   ]
  },
  {
   "cell_type": "code",
   "execution_count": 80,
   "metadata": {},
   "outputs": [
    {
     "name": "stdout",
     "output_type": "stream",
     "text": [
      "CPU times: user 44.3 ms, sys: 18.9 ms, total: 63.2 ms\n",
      "Wall time: 3min 5s\n"
     ]
    }
   ],
   "source": [
    "%%time\n",
    "from pyspark.ml.classification import LogisticRegression\n",
    "from pyspark.ml.evaluation import MulticlassClassificationEvaluator\n",
    "\n",
    "# Load and parse the data file, converting it to a DataFrame.\n",
    "data = dfclasbrs\n",
    "\n",
    "# Split the data into training and test sets (30% held out for testing)\n",
    "(trainingData, testData) = data.randomSplit([0.7, 0.3])\n",
    "\n",
    "# Train a RandomForest model.\n",
    "lr = LogisticRegression(labelCol=\"useful_review_binary\", featuresCol=\"class_features\")\n",
    "\n",
    "# Train model.  This also runs the indexers.\n",
    "model_lr = lr.fit(trainingData)\n",
    "\n",
    "# Make predictions.\n",
    "predictions_lr = model_lr.transform(testData)"
   ]
  },
  {
   "cell_type": "code",
   "execution_count": 81,
   "metadata": {},
   "outputs": [
    {
     "name": "stdout",
     "output_type": "stream",
     "text": [
      "LogisticRegression: accuracy: 0.7652154263332329\n",
      "LogisticRegression: precision: 0.7511360033815915\n",
      "LogisticRegression: recall: 0.9031766200762389\n",
      "LogisticRegression: f1-score: 0.8201696186465124\n"
     ]
    }
   ],
   "source": [
    "from pyspark.mllib.evaluation import MulticlassMetrics\n",
    "\n",
    "predictions_eval = predictions_lr.withColumn(\"prediction\", predictions_lr[\"prediction\"].cast(DoubleType()))\n",
    "predictions_eval = predictions_lr.withColumn(\"useful_review_binary\", predictions_lr[\"useful_review_binary\"].cast(DoubleType()))\n",
    "\n",
    "results = predictions_eval.select(['prediction', 'useful_review_binary'])\n",
    "predictionAndLabels=results.rdd\n",
    "metrics = MulticlassMetrics(predictionAndLabels)\n",
    "\n",
    "cm=metrics.confusionMatrix().toArray()\n",
    "accuracy=(cm[0][0]+cm[1][1])/cm.sum()\n",
    "precision=(cm[0][0])/(cm[0][0]+cm[1][0])\n",
    "recall=(cm[0][0])/(cm[0][0]+cm[0][1])\n",
    "f1=(2*precision*recall)/(precision+recall)\n",
    "print(\"LogisticRegression: accuracy:\",accuracy)\n",
    "print(\"LogisticRegression: precision:\",precision)\n",
    "print(\"LogisticRegression: recall:\",recall)\n",
    "print(\"LogisticRegression: f1-score:\",f1)"
   ]
  },
  {
   "cell_type": "code",
   "execution_count": 103,
   "metadata": {},
   "outputs": [
    {
     "name": "stdout",
     "output_type": "stream",
     "text": [
      "Feature: 0, Score: 0.58973\n",
      "Feature: 1, Score: 1.87486\n",
      "Feature: 2, Score: -0.16181\n",
      "Feature: 3, Score: -0.00017\n",
      "Feature: 4, Score: 0.06598\n",
      "Feature: 5, Score: -0.01000\n",
      "Feature: 6, Score: 0.07627\n",
      "Feature: 7, Score: 0.00043\n",
      "Feature: 8, Score: 0.00900\n",
      "Feature: 9, Score: -0.00001\n",
      "Feature: 10, Score: 0.00001\n",
      "Feature: 11, Score: -0.00002\n",
      "Feature: 12, Score: 0.00000\n",
      "Feature: 13, Score: 0.00004\n",
      "Feature: 14, Score: 0.00073\n",
      "Feature: 15, Score: 0.15689\n",
      "Feature: 16, Score: 0.54609\n",
      "Feature: 17, Score: 0.78869\n",
      "Feature: 18, Score: 0.44177\n",
      "Feature: 19, Score: -0.46971\n",
      "Feature: 20, Score: -2.96548\n",
      "Feature: 21, Score: -1.75020\n",
      "Feature: 22, Score: 1.68405\n",
      "Feature: 23, Score: -0.02378\n",
      "Feature: 24, Score: 1.20261\n",
      "Feature: 25, Score: -1.59334\n",
      "Feature: 26, Score: -1.46677\n",
      "Feature: 27, Score: 0.59382\n",
      "Feature: 28, Score: 0.02922\n",
      "Feature: 29, Score: 0.63891\n",
      "Feature: 30, Score: -0.44430\n",
      "Feature: 31, Score: 1.00180\n",
      "Feature: 32, Score: -2.16809\n",
      "Feature: 33, Score: 1.25907\n",
      "Feature: 34, Score: 3.49067\n",
      "Feature: 35, Score: -0.29836\n",
      "Feature: 36, Score: -1.43295\n",
      "Feature: 37, Score: 0.48771\n",
      "Feature: 38, Score: -1.71868\n",
      "Feature: 39, Score: -1.12417\n",
      "Feature: 40, Score: -2.29716\n",
      "Feature: 41, Score: -3.17676\n",
      "Feature: 42, Score: -1.97630\n",
      "Feature: 43, Score: 0.36848\n",
      "Feature: 44, Score: 0.05258\n",
      "Feature: 45, Score: -0.19364\n",
      "Feature: 46, Score: 1.08488\n",
      "Feature: 47, Score: 1.69894\n",
      "Feature: 48, Score: -1.31512\n",
      "Feature: 49, Score: -1.61745\n",
      "Feature: 50, Score: -0.35332\n",
      "Feature: 51, Score: -0.40960\n",
      "Feature: 52, Score: 1.63799\n",
      "Feature: 53, Score: 1.11757\n",
      "Feature: 54, Score: -0.36545\n",
      "Feature: 55, Score: 4.42973\n",
      "Feature: 56, Score: 0.37725\n",
      "Feature: 57, Score: -1.30552\n",
      "Feature: 58, Score: 0.13570\n",
      "Feature: 59, Score: 0.95869\n",
      "Feature: 60, Score: -2.31985\n",
      "Feature: 61, Score: 2.04545\n",
      "Feature: 62, Score: 1.95619\n",
      "Feature: 63, Score: -2.29408\n",
      "Feature: 64, Score: -0.86037\n",
      "Feature: 65, Score: 0.40905\n",
      "Feature: 66, Score: -0.75969\n",
      "Feature: 67, Score: 3.56795\n",
      "Feature: 68, Score: -0.07483\n",
      "Feature: 69, Score: 0.58759\n",
      "Feature: 70, Score: -0.29584\n",
      "Feature: 71, Score: -0.73785\n",
      "Feature: 72, Score: -1.86689\n",
      "Feature: 73, Score: -0.52426\n",
      "Feature: 74, Score: -0.05963\n",
      "Feature: 75, Score: -1.44433\n",
      "Feature: 76, Score: -0.62533\n",
      "Feature: 77, Score: 0.12243\n",
      "Feature: 78, Score: 1.71345\n",
      "Feature: 79, Score: -1.67084\n",
      "Feature: 80, Score: -1.94207\n",
      "Feature: 81, Score: -1.79632\n",
      "Feature: 82, Score: 3.24286\n",
      "Feature: 83, Score: -0.51685\n",
      "Feature: 84, Score: -0.33993\n",
      "Feature: 85, Score: -0.62143\n",
      "Feature: 86, Score: 0.24182\n",
      "Feature: 87, Score: -0.18669\n",
      "Feature: 88, Score: 0.81302\n",
      "Feature: 89, Score: -2.94682\n",
      "Feature: 90, Score: -0.68311\n",
      "Feature: 91, Score: -1.58750\n",
      "Feature: 92, Score: 0.82198\n",
      "Feature: 93, Score: -0.93251\n",
      "Feature: 94, Score: 0.62961\n",
      "Feature: 95, Score: 1.63573\n",
      "Feature: 96, Score: 0.29063\n",
      "Feature: 97, Score: 0.51288\n",
      "Feature: 98, Score: 1.28573\n",
      "Feature: 99, Score: 0.53090\n",
      "Feature: 100, Score: -0.18503\n",
      "Feature: 101, Score: 3.61703\n",
      "Feature: 102, Score: 0.53411\n",
      "Feature: 103, Score: 0.95157\n",
      "Feature: 104, Score: -1.36632\n",
      "Feature: 105, Score: 0.24484\n",
      "Feature: 106, Score: -0.88587\n",
      "Feature: 107, Score: -0.76727\n",
      "Feature: 108, Score: -0.27140\n",
      "Feature: 109, Score: -2.58953\n",
      "Feature: 110, Score: -2.59055\n",
      "Feature: 111, Score: 0.82048\n",
      "Feature: 112, Score: -0.68061\n",
      "Feature: 113, Score: 0.25099\n",
      "Feature: 114, Score: -0.63268\n",
      "Feature: 115, Score: 3.98310\n",
      "Feature: 116, Score: -1.23313\n",
      "Feature: 117, Score: -3.56768\n",
      "Feature: 118, Score: -1.63060\n",
      "Feature: 119, Score: -0.01404\n",
      "Feature: 120, Score: 3.03501\n",
      "Feature: 121, Score: 1.34589\n",
      "Feature: 122, Score: -1.64628\n",
      "Feature: 123, Score: 2.90785\n",
      "Feature: 124, Score: 0.69271\n",
      "Feature: 125, Score: 0.26309\n",
      "Feature: 126, Score: -3.98215\n",
      "Feature: 127, Score: 2.55106\n",
      "Feature: 128, Score: 0.15363\n",
      "Feature: 129, Score: -1.83412\n",
      "Feature: 130, Score: -1.25548\n",
      "Feature: 131, Score: 1.62242\n",
      "Feature: 132, Score: -0.01595\n",
      "Feature: 133, Score: 2.18840\n",
      "Feature: 134, Score: 1.24090\n",
      "Feature: 135, Score: -0.52529\n",
      "Feature: 136, Score: -0.37651\n",
      "Feature: 137, Score: 2.35383\n",
      "Feature: 138, Score: -0.24634\n",
      "Feature: 139, Score: -0.45258\n",
      "Feature: 140, Score: -0.33171\n",
      "Feature: 141, Score: -1.82656\n",
      "Feature: 142, Score: 1.12426\n",
      "Feature: 143, Score: 0.34828\n",
      "Feature: 144, Score: 1.26666\n",
      "Feature: 145, Score: 2.13692\n",
      "Feature: 146, Score: 0.88840\n",
      "Feature: 147, Score: 2.75463\n",
      "Feature: 148, Score: -2.63612\n",
      "Feature: 149, Score: -0.97739\n",
      "Feature: 150, Score: 1.04956\n",
      "Feature: 151, Score: -3.50224\n",
      "Feature: 152, Score: 0.78027\n",
      "Feature: 153, Score: 0.94232\n",
      "Feature: 154, Score: -0.31437\n",
      "Feature: 155, Score: 0.31421\n",
      "Feature: 156, Score: 0.62421\n",
      "Feature: 157, Score: -0.40451\n",
      "Feature: 158, Score: -1.84445\n",
      "Feature: 159, Score: -0.22219\n",
      "Feature: 160, Score: -0.55610\n",
      "Feature: 161, Score: 0.55581\n",
      "Feature: 162, Score: -0.81777\n",
      "Feature: 163, Score: -1.73181\n",
      "Feature: 164, Score: 0.42335\n",
      "Feature: 165, Score: 0.17992\n",
      "Feature: 166, Score: -0.75282\n",
      "Feature: 167, Score: 0.64205\n",
      "Feature: 168, Score: 3.00871\n",
      "Feature: 169, Score: 0.35816\n",
      "Feature: 170, Score: 0.32312\n",
      "Feature: 171, Score: 0.94018\n",
      "Feature: 172, Score: -2.98138\n",
      "Feature: 173, Score: -0.87143\n",
      "Feature: 174, Score: -1.18250\n",
      "Feature: 175, Score: -1.66694\n",
      "Feature: 176, Score: 0.71802\n",
      "Feature: 177, Score: -2.51507\n",
      "Feature: 178, Score: -0.67091\n",
      "Feature: 179, Score: 0.96101\n",
      "Feature: 180, Score: -0.58940\n",
      "Feature: 181, Score: 1.86497\n",
      "Feature: 182, Score: 0.74352\n",
      "Feature: 183, Score: -0.96812\n",
      "Feature: 184, Score: 1.70547\n",
      "Feature: 185, Score: 0.60421\n",
      "Feature: 186, Score: 1.17744\n",
      "Feature: 187, Score: 0.76349\n",
      "Feature: 188, Score: 0.08212\n",
      "Feature: 189, Score: 1.50310\n",
      "Feature: 190, Score: 0.52874\n",
      "Feature: 191, Score: 1.38704\n",
      "Feature: 192, Score: -1.66192\n",
      "Feature: 193, Score: 3.37286\n",
      "Feature: 194, Score: 3.02722\n",
      "Feature: 195, Score: 2.06272\n",
      "Feature: 196, Score: -0.26471\n",
      "Feature: 197, Score: 1.66754\n",
      "Feature: 198, Score: -0.53980\n",
      "Feature: 199, Score: 0.49261\n",
      "Feature: 200, Score: 1.60173\n",
      "Feature: 201, Score: 1.08740\n",
      "Feature: 202, Score: 0.82249\n",
      "Feature: 203, Score: -3.08903\n",
      "Feature: 204, Score: -3.42959\n",
      "Feature: 205, Score: -1.60151\n",
      "Feature: 206, Score: -0.20506\n",
      "Feature: 207, Score: -0.13770\n",
      "Feature: 208, Score: 1.98917\n",
      "Feature: 209, Score: -0.05330\n",
      "Feature: 210, Score: -1.65744\n",
      "Feature: 211, Score: 1.53223\n",
      "Feature: 212, Score: -4.11787\n",
      "Feature: 213, Score: 0.06318\n",
      "Feature: 214, Score: 4.05534\n",
      "Feature: 215, Score: -1.65924\n",
      "Feature: 216, Score: 1.64236\n",
      "Feature: 217, Score: 2.48159\n",
      "Feature: 218, Score: 0.84484\n",
      "Feature: 219, Score: -0.52805\n",
      "Feature: 220, Score: -1.75476\n",
      "Feature: 221, Score: 1.36000\n",
      "Feature: 222, Score: -0.62348\n",
      "Feature: 223, Score: 1.81584\n",
      "Feature: 224, Score: -1.56482\n",
      "Feature: 225, Score: 1.42540\n",
      "Feature: 226, Score: -0.11867\n",
      "Feature: 227, Score: 0.72726\n",
      "Feature: 228, Score: -1.76273\n",
      "Feature: 229, Score: 2.77066\n",
      "Feature: 230, Score: -1.49492\n",
      "Feature: 231, Score: 3.32958\n",
      "Feature: 232, Score: -1.54505\n",
      "Feature: 233, Score: -0.71397\n",
      "Feature: 234, Score: -0.57083\n",
      "Feature: 235, Score: 0.92234\n",
      "Feature: 236, Score: 0.63328\n",
      "Feature: 237, Score: -1.40413\n",
      "Feature: 238, Score: 0.68051\n",
      "Feature: 239, Score: 4.59447\n",
      "Feature: 240, Score: 1.96625\n",
      "Feature: 241, Score: -1.40105\n",
      "Feature: 242, Score: 0.15283\n",
      "Feature: 243, Score: 0.04872\n",
      "Feature: 244, Score: -1.18909\n",
      "Feature: 245, Score: 3.42804\n",
      "Feature: 246, Score: 1.75312\n",
      "Feature: 247, Score: 0.21127\n",
      "Feature: 248, Score: 1.30561\n",
      "Feature: 249, Score: 2.66247\n",
      "Feature: 250, Score: 0.21909\n",
      "Feature: 251, Score: 2.08858\n",
      "Feature: 252, Score: -1.06204\n",
      "Feature: 253, Score: -0.64499\n",
      "Feature: 254, Score: 2.02728\n",
      "Feature: 255, Score: 2.59005\n",
      "Feature: 256, Score: 1.80181\n",
      "Feature: 257, Score: -2.26553\n",
      "Feature: 258, Score: 0.75420\n",
      "Feature: 259, Score: -0.41842\n",
      "Feature: 260, Score: -0.28443\n",
      "Feature: 261, Score: -0.38412\n",
      "Feature: 262, Score: -0.09694\n",
      "Feature: 263, Score: -2.18166\n",
      "Feature: 264, Score: 1.87513\n",
      "Feature: 265, Score: 0.01420\n",
      "Feature: 266, Score: -1.26844\n",
      "Feature: 267, Score: 1.84530\n",
      "Feature: 268, Score: 0.06665\n",
      "Feature: 269, Score: -2.77116\n",
      "Feature: 270, Score: -0.93180\n",
      "Feature: 271, Score: -0.44357\n",
      "Feature: 272, Score: -0.48312\n",
      "Feature: 273, Score: -1.67629\n",
      "Feature: 274, Score: 0.70096\n",
      "Feature: 275, Score: -0.04287\n",
      "Feature: 276, Score: -5.17816\n",
      "Feature: 277, Score: 1.47720\n",
      "Feature: 278, Score: 1.76357\n",
      "Feature: 279, Score: -3.95657\n",
      "Feature: 280, Score: 0.73085\n",
      "Feature: 281, Score: 2.54835\n",
      "Feature: 282, Score: 1.25348\n",
      "Feature: 283, Score: -2.39680\n",
      "Feature: 284, Score: -0.08465\n",
      "Feature: 285, Score: 0.89587\n",
      "Feature: 286, Score: 1.41210\n",
      "Feature: 287, Score: 0.74629\n",
      "Feature: 288, Score: -1.34536\n",
      "Feature: 289, Score: 0.91616\n",
      "Feature: 290, Score: -1.08802\n",
      "Feature: 291, Score: -2.35326\n",
      "Feature: 292, Score: 0.89294\n",
      "Feature: 293, Score: 0.99927\n",
      "Feature: 294, Score: -0.38600\n",
      "Feature: 295, Score: 1.14983\n",
      "Feature: 296, Score: 0.64428\n",
      "Feature: 297, Score: -2.04742\n",
      "Feature: 298, Score: 0.62846\n",
      "Feature: 299, Score: -1.53010\n",
      "Feature: 300, Score: -0.40780\n",
      "Feature: 301, Score: 1.63265\n",
      "Feature: 302, Score: 1.35071\n",
      "Feature: 303, Score: 0.98688\n",
      "Feature: 304, Score: -0.34876\n",
      "Feature: 305, Score: 0.61563\n",
      "Feature: 306, Score: 1.40701\n",
      "Feature: 307, Score: 0.40846\n",
      "Feature: 308, Score: -0.38967\n",
      "Feature: 309, Score: 0.01045\n",
      "Feature: 310, Score: -0.47113\n",
      "Feature: 311, Score: -1.18469\n",
      "Feature: 312, Score: -0.86293\n",
      "Feature: 313, Score: 1.13646\n",
      "Feature: 314, Score: -0.61375\n"
     ]
    },
    {
     "data": {
      "image/png": "[encoded data removed]",
      "text/plain": [
       "<Figure size 432x288 with 1 Axes>"
      ]
     },
     "metadata": {},
     "output_type": "display_data"
    }
   ],
   "source": [
    "from matplotlib import pyplot\n",
    "importance = model_lr.coefficients\n",
    "# summarize feature importance\n",
    "for i,v in enumerate(importance):\n",
    "\tprint('Feature: %0d, Score: %.5f' % (i,v))\n",
    "# plot feature importance\n",
    "pyplot.bar([x for x in range(len(importance))], importance)\n",
    "pyplot.limit(14).show()"
   ]
  },
  {
   "cell_type": "code",
   "execution_count": 88,
   "metadata": {},
   "outputs": [
    {
     "name": "stdout",
     "output_type": "stream",
     "text": [
      "Feature: 0, Score: 0.80354\n",
      "Feature: 1, Score: 1.93057\n",
      "Feature: 2, Score: -0.14551\n",
      "Feature: 3, Score: -0.00020\n",
      "Feature: 4, Score: -0.02285\n",
      "Feature: 5, Score: 0.00222\n",
      "Feature: 6, Score: 0.06634\n",
      "Feature: 7, Score: 0.00035\n",
      "Feature: 8, Score: 0.01319\n",
      "Feature: 9, Score: -0.00010\n",
      "Feature: 10, Score: 0.00002\n",
      "Feature: 11, Score: 0.00003\n",
      "Feature: 12, Score: -0.00008\n",
      "Feature: 13, Score: 0.00045\n"
     ]
    },
    {
     "data": {
      "image/png": "[encoded data removed]",
      "text/plain": [
       "<Figure size 432x288 with 1 Axes>"
      ]
     },
     "metadata": {},
     "output_type": "display_data"
    }
   ],
   "source": [
    "from matplotlib import pyplot\n",
    "importance = model_lr.coefficients[0:14]\n",
    "# summarize feature importance\n",
    "for i,v in enumerate(importance):\n",
    "\tprint('Feature: %0d, Score: %.5f' % (i,v))\n",
    "# plot feature importance\n",
    "pyplot.bar([x for x in range(len(importance))], importance)\n",
    "pyplot.show()"
   ]
  },
  {
   "cell_type": "code",
   "execution_count": 82,
   "metadata": {},
   "outputs": [
    {
     "data": {
      "text/plain": [
       "DenseVector([0.8035, 1.9306, -0.1455, -0.0002, -0.0229, 0.0022, 0.0663, 0.0003, 0.0132, -0.0001, 0.0, 0.0, -0.0001, 0.0004, 0.0007, -2.2107, -0.3192, -2.1378, 2.5213, 5.0193, -5.4546, -0.2187, 0.6958, -1.9137, -3.9405, 1.9898, -0.3535, -2.6643, 0.498, 1.5556, -0.2266, -1.5034, 1.5026, -0.7561, -0.0363, 1.0066, 0.4759, -2.222, 4.1473, 2.8347, -1.6757, -3.3514, -1.6777, -2.6299, -0.3295, 1.7791, 1.7845, -1.7613, -3.6843, -4.0663, -1.9075, 0.4173, 1.9821, 0.3608, -0.8176, -0.27, 2.0605, 0.1022, -3.6087, -4.0629, 0.0952, 2.264, 1.9154, -0.9766, -2.2799, 1.4921, 0.5883, 2.1597, 2.9345, 0.7246, 2.5055, -3.9865, -1.591, -0.0321, 4.4481, 1.0953, -0.9908, 1.38, 3.9729, 1.6181, 2.8701, 2.1301, 0.738, 1.7016, -0.0209, -2.0161, -2.4814, -1.2513, -0.0021, 2.4272, 1.2469, -3.5802, 0.8044, -2.5457, -0.8307, 3.1068, 0.1809, 3.9925, -0.5986, -3.4483, 2.504, 0.4724, -4.5424, -0.3717, -1.1573, -0.8036, -3.5092, 1.753, 1.1133, -0.759, -0.8558, -0.766, -0.3246, 0.4074, -1.1192, 0.9043, -3.4816, -2.4021, -3.5239, -0.3189, -2.4455, -3.006, 0.507, -0.6964, 3.1047, -3.2257, 0.5483, 3.2702, 0.6632, -2.4366, 0.5889, 1.0533, -0.0643, 0.4698, -1.1145, -1.7989, 2.0461, 1.1462, 2.6178, -0.9023, -1.918, 1.0529, -3.2834, 1.8044, 3.6685, -0.3318, -2.3139, 2.6443, -1.232, -0.2029, 3.1642, 1.076, 3.8274, 1.3711, 2.5232, 4.4595, 4.3335, 2.1949, -0.7033, -1.6863, 1.7374, -3.3414, -2.5355, -1.2291, 2.481, 0.2259, 2.9348, -1.4748, 0.3325, -4.1231, 0.0812, -5.0434, -1.0873, 1.688, -0.6613, -0.2495, -6.0004, -0.5108, 0.4897, -0.3381, -0.5018, 0.6513, -0.1892, -0.8384, 2.388, -0.6662, -1.5707, -0.7092, 0.8075, -0.3612, 2.6095, -1.151, 0.8339, 4.0941, -0.0943, 1.1174, 1.2487, -1.9599, -3.7749, 0.7384, -2.1877, 2.341, -1.4775, -1.1814, 0.3946, -0.3694, 3.0932, -0.6869, -2.5797, -2.9703, 2.7246, -2.4529, -0.4955, -0.4023, 6.0783, -0.4187, -0.3626, 0.5428, 2.0852, -0.3781, -4.2011, 2.8928, -1.8136, 1.5582, -0.8442, -4.0356, -2.648, 0.8354, -3.3565, -1.2076, -3.3631, 1.1585, -3.0258, 1.5128, -0.7723, 1.1252, -0.6247, 3.4237, -3.647, 4.042, 1.1554, 2.7691, 3.0751, 4.8061, -1.0421, -3.5212, 2.7986, 1.2055, -3.8341, 0.0405, 0.8045, 1.1049, 1.6795, 2.068, 0.3059, 2.5033, 0.6809, -8.1241, 3.8389, 1.5036, -4.0141, -2.3634, 0.6006, -1.1688, 2.1724, -0.0737, 1.8904, 1.0482, -1.1914, 1.3742, -0.8718, 1.3833, -2.6288, -2.3562, 0.8092, -1.6669, -2.0306, -3.6419, 2.0686, -0.6671, -1.1275, -0.378, 1.1564, 3.4735, 3.9945, 3.6046, 3.9531, -4.7071, 2.8348, -1.0104, -2.1681, -3.7375, 1.0736, -2.2386, 3.4659, 0.6643, -1.5559, 0.3684, 1.05, 0.7018, -0.0378, -0.7625, -3.6832, 1.1821, -1.8853, -1.5589, -0.4289, 3.4846, -0.576, -2.5911, 2.2877, 6.2269, -0.9784, 2.9157, -2.8186])"
      ]
     },
     "execution_count": 82,
     "metadata": {},
     "output_type": "execute_result"
    }
   ],
   "source": [
    "model_lr.coefficients "
   ]
  },
  {
   "cell_type": "markdown",
   "metadata": {},
   "source": [
    "### Gradient Boosted Tree Classifier"
   ]
  },
  {
   "cell_type": "code",
   "execution_count": 85,
   "metadata": {},
   "outputs": [
    {
     "name": "stdout",
     "output_type": "stream",
     "text": [
      "CPU times: user 52.2 ms, sys: 18.1 ms, total: 70.3 ms\n",
      "Wall time: 4min 9s\n"
     ]
    }
   ],
   "source": [
    "%%time\n",
    "from pyspark.ml.classification import GBTClassifier\n",
    "from pyspark.ml.evaluation import MulticlassClassificationEvaluator\n",
    "\n",
    "# Load and parse the data file, converting it to a DataFrame.\n",
    "data = dfclasbrs\n",
    "\n",
    "# Split the data into training and test sets (30% held out for testing)\n",
    "(trainingData, testData) = data.randomSplit([0.7, 0.3])\n",
    "\n",
    "# Train a model.\n",
    "gb = GBTClassifier(labelCol=\"useful_review_binary\", featuresCol=\"class_features\")\n",
    "\n",
    "# Train model.  This also runs the indexers.\n",
    "model_gb = gb.fit(trainingData)\n",
    "\n",
    "# Make predictions.\n",
    "predictions_gb = model_gb.transform(testData)"
   ]
  },
  {
   "cell_type": "code",
   "execution_count": 87,
   "metadata": {
    "scrolled": true
   },
   "outputs": [
    {
     "name": "stdout",
     "output_type": "stream",
     "text": [
      "GradientBoostedTreeClassifier: accuracy: 0.762316715542522\n",
      "GradientBoostedTreeClassifier: precision: 0.7566143374684378\n",
      "GradientBoostedTreeClassifier: recall: 0.8705317670834912\n",
      "GradientBoostedTreeClassifier: f1-score: 0.809585340068131\n"
     ]
    }
   ],
   "source": [
    "from pyspark.mllib.evaluation import MulticlassMetrics\n",
    "\n",
    "predictions_eval = predictions_gb.withColumn(\"prediction\", predictions_gb[\"prediction\"].cast(DoubleType()))\n",
    "predictions_eval = predictions_gb.withColumn(\"useful_review_binary\", predictions_gb[\"useful_review_binary\"].cast(DoubleType()))\n",
    "\n",
    "results = predictions_eval.select(['prediction', 'useful_review_binary'])\n",
    "predictionAndLabels=results.rdd\n",
    "metrics = MulticlassMetrics(predictionAndLabels)\n",
    "\n",
    "cm=metrics.confusionMatrix().toArray()\n",
    "accuracy=(cm[0][0]+cm[1][1])/cm.sum()\n",
    "precision=(cm[0][0])/(cm[0][0]+cm[1][0])\n",
    "recall=(cm[0][0])/(cm[0][0]+cm[0][1])\n",
    "f1=(2*precision*recall)/(precision+recall)\n",
    "print(\"GradientBoostedTreeClassifier: accuracy:\",accuracy)\n",
    "print(\"GradientBoostedTreeClassifier: precision:\",precision)\n",
    "print(\"GradientBoostedTreeClassifier: recall:\",recall)\n",
    "print(\"GradientBoostedTreeClassifier: f1-score:\",f1)"
   ]
  },
  {
   "cell_type": "code",
   "execution_count": 88,
   "metadata": {},
   "outputs": [
    {
     "data": {
      "text/html": [
       "<div>\n",
       "<style scoped>\n",
       "    .dataframe tbody tr th:only-of-type {\n",
       "        vertical-align: middle;\n",
       "    }\n",
       "\n",
       "    .dataframe tbody tr th {\n",
       "        vertical-align: top;\n",
       "    }\n",
       "\n",
       "    .dataframe thead th {\n",
       "        text-align: right;\n",
       "    }\n",
       "</style>\n",
       "<table border=\"1\" class=\"dataframe\">\n",
       "  <thead>\n",
       "    <tr style=\"text-align: right;\">\n",
       "      <th></th>\n",
       "      <th>Importance</th>\n",
       "      <th>features</th>\n",
       "    </tr>\n",
       "  </thead>\n",
       "  <tbody>\n",
       "    <tr>\n",
       "      <th>1</th>\n",
       "      <td>0.134388</td>\n",
       "      <td>cool_review</td>\n",
       "    </tr>\n",
       "    <tr>\n",
       "      <th>10</th>\n",
       "      <td>0.116970</td>\n",
       "      <td>useful_user</td>\n",
       "    </tr>\n",
       "    <tr>\n",
       "      <th>14</th>\n",
       "      <td>0.052119</td>\n",
       "      <td>text_length</td>\n",
       "    </tr>\n",
       "    <tr>\n",
       "      <th>0</th>\n",
       "      <td>0.050211</td>\n",
       "      <td>funny_review</td>\n",
       "    </tr>\n",
       "    <tr>\n",
       "      <th>3</th>\n",
       "      <td>0.037173</td>\n",
       "      <td>rev_count_biz</td>\n",
       "    </tr>\n",
       "    <tr>\n",
       "      <th>9</th>\n",
       "      <td>0.017323</td>\n",
       "      <td>funny_user</td>\n",
       "    </tr>\n",
       "    <tr>\n",
       "      <th>11</th>\n",
       "      <td>0.016126</td>\n",
       "      <td>cool_user</td>\n",
       "    </tr>\n",
       "    <tr>\n",
       "      <th>13</th>\n",
       "      <td>0.012933</td>\n",
       "      <td>fans</td>\n",
       "    </tr>\n",
       "    <tr>\n",
       "      <th>12</th>\n",
       "      <td>0.007594</td>\n",
       "      <td>compliment_sum</td>\n",
       "    </tr>\n",
       "    <tr>\n",
       "      <th>4</th>\n",
       "      <td>0.005357</td>\n",
       "      <td>stars_biz</td>\n",
       "    </tr>\n",
       "    <tr>\n",
       "      <th>7</th>\n",
       "      <td>0.004044</td>\n",
       "      <td>friends_count</td>\n",
       "    </tr>\n",
       "    <tr>\n",
       "      <th>2</th>\n",
       "      <td>0.003696</td>\n",
       "      <td>stars_review</td>\n",
       "    </tr>\n",
       "    <tr>\n",
       "      <th>5</th>\n",
       "      <td>0.003456</td>\n",
       "      <td>count_sum</td>\n",
       "    </tr>\n",
       "    <tr>\n",
       "      <th>8</th>\n",
       "      <td>0.003306</td>\n",
       "      <td>years_gap</td>\n",
       "    </tr>\n",
       "    <tr>\n",
       "      <th>6</th>\n",
       "      <td>0.001720</td>\n",
       "      <td>elite_count</td>\n",
       "    </tr>\n",
       "  </tbody>\n",
       "</table>\n",
       "</div>"
      ],
      "text/plain": [
       "    Importance        features\n",
       "1     0.134388     cool_review\n",
       "10    0.116970     useful_user\n",
       "14    0.052119     text_length\n",
       "0     0.050211    funny_review\n",
       "3     0.037173   rev_count_biz\n",
       "9     0.017323      funny_user\n",
       "11    0.016126       cool_user\n",
       "13    0.012933            fans\n",
       "12    0.007594  compliment_sum\n",
       "4     0.005357       stars_biz\n",
       "7     0.004044   friends_count\n",
       "2     0.003696    stars_review\n",
       "5     0.003456       count_sum\n",
       "8     0.003306       years_gap\n",
       "6     0.001720     elite_count"
      ]
     },
     "execution_count": 88,
     "metadata": {},
     "output_type": "execute_result"
    }
   ],
   "source": [
    "import pandas as pd\n",
    "\n",
    "featureImp_gb = pd.DataFrame(list(zip(model_gb.featureImportances, \\\n",
    "assembler.getInputCols())),columns=[\"Importance\",\"features\"]) \\\n",
    ".sort_values(by=\"Importance\",ascending=False)\n",
    "\n",
    "featureImp_gb.head(15)"
   ]
  },
  {
   "cell_type": "code",
   "execution_count": 89,
   "metadata": {},
   "outputs": [
    {
     "data": {
      "image/png": "[encoded data removed]",
      "text/plain": [
       "<Figure size 720x504 with 1 Axes>"
      ]
     },
     "metadata": {},
     "output_type": "display_data"
    }
   ],
   "source": [
    "import matplotlib.pyplot as plt\n",
    "featureImp_gb.set_index('features').sort_values('Importance', ascending=True).plot(kind='barh', figsize=(10,7), color='brown')\n",
    "plt.show()"
   ]
  },
  {
   "cell_type": "code",
   "execution_count": 90,
   "metadata": {},
   "outputs": [
    {
     "data": {
      "text/plain": [
       "9033"
      ]
     },
     "execution_count": 90,
     "metadata": {},
     "output_type": "execute_result"
    }
   ],
   "source": [
    "dfclasbrs.sample(0.2).count()"
   ]
  },
  {
   "cell_type": "code",
   "execution_count": 91,
   "metadata": {},
   "outputs": [],
   "source": [
    "dfclasbrs_pdf = dfclasbrs.sample(0.2).toPandas()"
   ]
  },
  {
   "cell_type": "code",
   "execution_count": 92,
   "metadata": {},
   "outputs": [
    {
     "data": {
      "image/png": "[encoded data removed]",
      "text/plain": [
       "<Figure size 720x504 with 1 Axes>"
      ]
     },
     "metadata": {},
     "output_type": "display_data"
    }
   ],
   "source": [
    "dfclasbrs_pdf.corr()['useful_review'].drop('useful_review')\\\n",
    ".reindex(index=featureImp_gb.sort_values(\"Importance\", ascending=True)['features']).plot(kind='barh', figsize=(10,7), color='brown');\n"
   ]
  },
  {
   "cell_type": "code",
   "execution_count": null,
   "metadata": {},
   "outputs": [],
   "source": []
  }
 ],
 "metadata": {
  "kernelspec": {
   "display_name": "pySpark",
   "language": "python",
   "name": "pyspark"
  },
  "language_info": {
   "codemirror_mode": {
    "name": "ipython",
    "version": 3
   },
   "file_extension": ".py",
   "mimetype": "text/x-python",
   "name": "python",
   "nbconvert_exporter": "python",
   "pygments_lexer": "ipython3",
   "version": "3.6.8"
  }
 },
 "nbformat": 4,
 "nbformat_minor": 2
}
